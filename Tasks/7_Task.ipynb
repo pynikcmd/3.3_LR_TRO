{
 "cells": [
  {
   "cell_type": "code",
   "execution_count": 2,
   "metadata": {},
   "outputs": [],
   "source": [
    "import numpy as np"
   ]
  },
  {
   "cell_type": "markdown",
   "metadata": {},
   "source": [
    "### Транспонирование матрицы"
   ]
  },
  {
   "cell_type": "code",
   "execution_count": 6,
   "metadata": {},
   "outputs": [
    {
     "name": "stdout",
     "output_type": "stream",
     "text": [
      "[[ 10 -16  17   1]\n",
      " [  1   0   8   0]\n",
      " [ 18  10  19  22]]\n"
     ]
    }
   ],
   "source": [
    "A = np.random.randint(-20,25,(3,4))\n",
    "print(A)"
   ]
  },
  {
   "cell_type": "code",
   "execution_count": 7,
   "metadata": {},
   "outputs": [
    {
     "name": "stdout",
     "output_type": "stream",
     "text": [
      "Транспонированная матрица:\n",
      " [[ 10   1  18]\n",
      " [-16   0  10]\n",
      " [ 17   8  19]\n",
      " [  1   0  22]]\n"
     ]
    }
   ],
   "source": [
    "A_T = A.T\n",
    "print(\"Транспонированная матрица:\\n\",A_T)"
   ]
  },
  {
   "cell_type": "markdown",
   "metadata": {},
   "source": [
    "#### Свойство 1. Дважды транспонированная матрица равна исходной матрице:"
   ]
  },
  {
   "cell_type": "code",
   "execution_count": 8,
   "metadata": {},
   "outputs": [
    {
     "name": "stdout",
     "output_type": "stream",
     "text": [
      "[[ -2   9  -2   6]\n",
      " [  2  10   5 -12]\n",
      " [ 13 -13  11   2]]\n",
      "[[ -2   9  -2   6]\n",
      " [  2  10   5 -12]\n",
      " [ 13 -13  11   2]]\n"
     ]
    }
   ],
   "source": [
    "A = np.random.randint(-20,25,(3,4))\n",
    "print(A)\n",
    "print((A.T).T)"
   ]
  },
  {
   "cell_type": "markdown",
   "metadata": {},
   "source": [
    "#### Свойство 2. Транспонирование суммы матриц равно сумме транспонированных матриц:"
   ]
  },
  {
   "cell_type": "code",
   "execution_count": 12,
   "metadata": {},
   "outputs": [
    {
     "name": "stdout",
     "output_type": "stream",
     "text": [
      "Транспонирование суммы:\n",
      " [[24 10  7]\n",
      " [ 4 -7 -3]\n",
      " [ 3  7 17]\n",
      " [23 11 26]]\n",
      "Сумма транспонированных матриц:\n",
      " [[24 10  7]\n",
      " [ 4 -7 -3]\n",
      " [ 3  7 17]\n",
      " [23 11 26]]\n"
     ]
    }
   ],
   "source": [
    "A = np.random.randint(-10,10,(3,4))\n",
    "B = np.random.randint(0,25,(3,4))\n",
    "L = (A+B).T\n",
    "R = A.T + B.T\n",
    "print(\"Транспонирование суммы:\\n\",L)\n",
    "print(\"Сумма транспонированных матриц:\\n\",R)"
   ]
  },
  {
   "cell_type": "markdown",
   "metadata": {},
   "source": [
    "#### Свойство 3. Транспонирование произведения матриц равно произведению транспонированных матриц расставленных в обратном порядке"
   ]
  },
  {
   "cell_type": "code",
   "execution_count": 13,
   "metadata": {},
   "outputs": [
    {
     "name": "stdout",
     "output_type": "stream",
     "text": [
      "Транспонирование произведения матриц:\n",
      " [[ 201  299   -7]\n",
      " [1224  869  680]\n",
      " [ 963  516  535]]\n",
      "Произведение транспонированных матриц расставленных в обратном порядке:\n",
      " [[ 201  299   -7]\n",
      " [1224  869  680]\n",
      " [ 963  516  535]]\n"
     ]
    }
   ],
   "source": [
    "A = np.random.randint(-10,30,(3,4))\n",
    "B = np.random.randint(0,25,(4,3))\n",
    "L = (A.dot(B)).T\n",
    "R = (B.T).dot(A.T)\n",
    "print(\"Транспонирование произведения матриц:\\n\",L)\n",
    "print(\"Произведение транспонированных матриц расставленных в обратном порядке:\\n\",R)"
   ]
  },
  {
   "cell_type": "markdown",
   "metadata": {},
   "source": [
    "#### Свойство 4. Транспонирование произведения матрицы на число равно произведению этого числа на транспонированную матрицу:"
   ]
  },
  {
   "cell_type": "code",
   "execution_count": 14,
   "metadata": {},
   "outputs": [
    {
     "name": "stdout",
     "output_type": "stream",
     "text": [
      "Транспонирование произведения матрицы на число:\n",
      " [[ 20  80  45  25]\n",
      " [105  60  40  55]\n",
      " [ 15   0 110 100]\n",
      " [ 40  95  70  90]]\n",
      "Произведение этого числа на транспонированную матрицу:\n",
      " [[ 20  80  45  25]\n",
      " [105  60  40  55]\n",
      " [ 15   0 110 100]\n",
      " [ 40  95  70  90]]\n"
     ]
    }
   ],
   "source": [
    "A = np.random.randint(0,25,(4,4))\n",
    "k = 5\n",
    "L = (k * A).T\n",
    "R = k * A.T\n",
    "print(\"Транспонирование произведения матрицы на число:\\n\",L)\n",
    "print(\"Произведение этого числа на транспонированную матрицу:\\n\",R)"
   ]
  },
  {
   "cell_type": "markdown",
   "metadata": {},
   "source": [
    "#### Свойство 5. Определители исходной и транспонированной матрицы совпадают:"
   ]
  },
  {
   "cell_type": "code",
   "execution_count": 18,
   "metadata": {},
   "outputs": [
    {
     "name": "stdout",
     "output_type": "stream",
     "text": [
      "Определитель исходной матрицы: -2\n",
      "Определитель транспонированной матрицы: -2\n"
     ]
    }
   ],
   "source": [
    "A = np.random.randint(0,10,(4,4))\n",
    "A_det = np.linalg.det(A)\n",
    "A_T_det = np.linalg.det(A.T)\n",
    "print(\"Определитель исходной матрицы:\",format(A_det, '.9g'))\n",
    "print(\"Определитель транспонированной матрицы:\",format(A_T_det, '.9g'))"
   ]
  },
  {
   "cell_type": "markdown",
   "metadata": {},
   "source": [
    "### Действия над матрицами\n",
    "\n",
    "#### Умножение матрицы на число"
   ]
  },
  {
   "cell_type": "code",
   "execution_count": 19,
   "metadata": {},
   "outputs": [
    {
     "name": "stdout",
     "output_type": "stream",
     "text": [
      "[[ -5 -10   3  -5]\n",
      " [  1   7   1  -2]\n",
      " [  6  -2   1  -7]\n",
      " [  0   1   1  -3]]\n",
      "Произведение матрицы на число:\n",
      " [[-20 -40  12 -20]\n",
      " [  4  28   4  -8]\n",
      " [ 24  -8   4 -28]\n",
      " [  0   4   4 -12]]\n"
     ]
    }
   ],
   "source": [
    "A = np.random.randint(-10,10,(4,4))\n",
    "print(A)\n",
    "print(\"Произведение матрицы на число:\\n\",A * 4)"
   ]
  },
  {
   "cell_type": "markdown",
   "metadata": {},
   "source": [
    "#### Свойство 1. Произведение единицы и любой заданной матрицы равно заданной матрице"
   ]
  },
  {
   "cell_type": "code",
   "execution_count": 22,
   "metadata": {
    "scrolled": true
   },
   "outputs": [
    {
     "name": "stdout",
     "output_type": "stream",
     "text": [
      "Исходная матрица:\n",
      " [[ -7   2  -1 -10]\n",
      " [ -3  -5   8  -2]\n",
      " [  2  -2  -4   1]\n",
      " [ -7   0   7  -4]]\n",
      "Матрица умноженная на единицу:\n",
      " [[ -7   2  -1 -10]\n",
      " [ -3  -5   8  -2]\n",
      " [  2  -2  -4   1]\n",
      " [ -7   0   7  -4]]\n"
     ]
    }
   ],
   "source": [
    "A = np.random.randint(-10,10,(4,4))\n",
    "print(\"Исходная матрица:\\n\",A)\n",
    "print(\"Матрица умноженная на единицу:\\n\",A * 1)"
   ]
  },
  {
   "cell_type": "markdown",
   "metadata": {},
   "source": [
    "#### Свойство 2. Произведение нуля и любой матрицы равно нулевой матрице, размерность которой равна исходной матрицы"
   ]
  },
  {
   "cell_type": "code",
   "execution_count": 23,
   "metadata": {},
   "outputs": [
    {
     "name": "stdout",
     "output_type": "stream",
     "text": [
      "Исходная матрица:\n",
      " [[ 9 -9  3  0]\n",
      " [-1  3 -9 -4]\n",
      " [ 6 -9  7  6]\n",
      " [-5 -2  4 -6]]\n",
      "Произведение матрицы на ноль:\n",
      " [[0 0 0 0]\n",
      " [0 0 0 0]\n",
      " [0 0 0 0]\n",
      " [0 0 0 0]]\n"
     ]
    }
   ],
   "source": [
    "A = np.random.randint(-10,10,(4,4))\n",
    "print(\"Исходная матрица:\\n\",A)\n",
    "print(\"Произведение матрицы на ноль:\\n\",A * 0)"
   ]
  },
  {
   "cell_type": "markdown",
   "metadata": {},
   "source": [
    "#### Свойство 3. Произведение матрицы на сумму чисел равно сумме произведений матрицы на\n",
    "каждое из этих чисел"
   ]
  },
  {
   "cell_type": "code",
   "execution_count": 25,
   "metadata": {},
   "outputs": [
    {
     "name": "stdout",
     "output_type": "stream",
     "text": [
      "Исходная матрица:\n",
      " [[  5   1   8  -1]\n",
      " [  0   6  -9 -10]\n",
      " [  6   9  -8   8]\n",
      " [  7  -3   2  -1]]\n",
      "Произведение матрицы на сумму чисел:\n",
      " [[ 45   9  72  -9]\n",
      " [  0  54 -81 -90]\n",
      " [ 54  81 -72  72]\n",
      " [ 63 -27  18  -9]]\n",
      "Сумма произведений матрицы на каждое из этих чисел:\n",
      " [[ 45   9  72  -9]\n",
      " [  0  54 -81 -90]\n",
      " [ 54  81 -72  72]\n",
      " [ 63 -27  18  -9]]\n"
     ]
    }
   ],
   "source": [
    "A = np.random.randint(-10,10,(4,4))\n",
    "print(\"Исходная матрица:\\n\",A)\n",
    "d = 5\n",
    "c = 4\n",
    "L = (d + c) * A\n",
    "R = d * A + c * A\n",
    "print(\"Произведение матрицы на сумму чисел:\\n\", L)\n",
    "print(\"Сумма произведений матрицы на каждое из этих чисел:\\n\", R)"
   ]
  },
  {
   "cell_type": "markdown",
   "metadata": {},
   "source": [
    "#### Свойство 4. Произведение матрицы на произведение двух чисел равно произведению второго числа и заданной матрицы, умноженному на первое число:"
   ]
  },
  {
   "cell_type": "code",
   "execution_count": 27,
   "metadata": {},
   "outputs": [
    {
     "name": "stdout",
     "output_type": "stream",
     "text": [
      "Исходная матрица:\n",
      " [[  0   1   0  -1]\n",
      " [-10   4  -3   6]\n",
      " [-10 -10   7   6]\n",
      " [ -2  -2   5 -10]]\n",
      "Произведение матрицы на произведение двух чисел:\n",
      " [[   0   20    0  -20]\n",
      " [-200   80  -60  120]\n",
      " [-200 -200  140  120]\n",
      " [ -40  -40  100 -200]]\n",
      "Произведение второго числа и заданной матрицы, умноженному на первое число \n",
      " [[   0   20    0  -20]\n",
      " [-200   80  -60  120]\n",
      " [-200 -200  140  120]\n",
      " [ -40  -40  100 -200]]\n"
     ]
    }
   ],
   "source": [
    "A = np.random.randint(-10,10,(4,4))\n",
    "print(\"Исходная матрица:\\n\",A)\n",
    "d = 5\n",
    "c = 4\n",
    "L = (d * c) * A\n",
    "R = d * (c * A)\n",
    "print(\"Произведение матрицы на произведение двух чисел:\\n\", L)\n",
    "print(\"Произведение второго числа и заданной матрицы, умноженному на первое число \\n\", R)"
   ]
  },
  {
   "cell_type": "markdown",
   "metadata": {},
   "source": [
    "#### Свойство 5. Произведение суммы матриц на число равно сумме произведений этих матриц на заданное число:"
   ]
  },
  {
   "cell_type": "code",
   "execution_count": 30,
   "metadata": {},
   "outputs": [
    {
     "name": "stdout",
     "output_type": "stream",
     "text": [
      "Исходная матрица A:\n",
      " [[ 6 -7  0  0]\n",
      " [-8 -5  2  7]\n",
      " [ 2  0  3  0]]\n",
      "Исходная матрица B:\n",
      " [[-10   4  -1  -1]\n",
      " [ -9   3  -4   3]\n",
      " [  4  -4  -9 -10]]\n",
      "Произведение суммы матриц на число:\n",
      " [[ -400  -300  -100  -100]\n",
      " [-1700  -200  -200  1000]\n",
      " [  600  -400  -600 -1000]]\n",
      "Сумма произведений этих матриц на заданное число:\n",
      " [[ -400  -300  -100  -100]\n",
      " [-1700  -200  -200  1000]\n",
      " [  600  -400  -600 -1000]]\n"
     ]
    }
   ],
   "source": [
    "A = np.random.randint(-10,10,(3,4))\n",
    "print(\"Исходная матрица A:\\n\",A)\n",
    "B = np.random.randint(-10,10,(3,4))\n",
    "print(\"Исходная матрица B:\\n\",B)\n",
    "k = 100\n",
    "L = k * (A + B)\n",
    "R = k * A + k * B\n",
    "print(\"Произведение суммы матриц на число:\\n\", L)\n",
    "print(\"Сумма произведений этих матриц на заданное число:\\n\", R)"
   ]
  },
  {
   "cell_type": "markdown",
   "metadata": {},
   "source": [
    "### Cложение матрицы"
   ]
  },
  {
   "cell_type": "markdown",
   "metadata": {},
   "source": [
    "#### Свойство 1. Коммутативность сложения. От перестановки матриц их сумма не изменяется:"
   ]
  },
  {
   "cell_type": "code",
   "execution_count": 35,
   "metadata": {},
   "outputs": [
    {
     "name": "stdout",
     "output_type": "stream",
     "text": [
      "Исходная матрица A:\n",
      " [[ 0  2 -5  0]\n",
      " [ 6  8 -5  7]\n",
      " [-7  2  5 -9]]\n",
      "Исходная матрица B:\n",
      " [[ 8 -1  4  2]\n",
      " [-2 -7 -1  2]\n",
      " [ 6  7 -4  1]]\n",
      "Сумма А + В:\n",
      " [[ 8  1 -1  2]\n",
      " [ 4  1 -6  9]\n",
      " [-1  9  1 -8]]\n",
      "Сумма В + А:\n",
      " [[ 8  1 -1  2]\n",
      " [ 4  1 -6  9]\n",
      " [-1  9  1 -8]]\n"
     ]
    }
   ],
   "source": [
    "A = np.random.randint(-10,10,(3,4))\n",
    "print(\"Исходная матрица A:\\n\",A)\n",
    "B = np.random.randint(-10,10,(3,4))\n",
    "print(\"Исходная матрица B:\\n\",B)\n",
    "L = A + B\n",
    "R = B + A\n",
    "print(\"Сумма А + В:\\n\", L)\n",
    "print(\"Сумма В + А:\\n\", R)"
   ]
  },
  {
   "cell_type": "markdown",
   "metadata": {},
   "source": [
    "#### Свойство 2. Ассоциативность сложения.\n",
    "Результат сложения трех и более матриц не зависит от порядка, в котором эта операция будет выполняться"
   ]
  },
  {
   "cell_type": "code",
   "execution_count": 36,
   "metadata": {},
   "outputs": [
    {
     "name": "stdout",
     "output_type": "stream",
     "text": [
      "Сумма A + (B + C):\n",
      " [[-10 -14  -3]\n",
      " [ 13   5  14]\n",
      " [-13   5  -1]]\n",
      "Сумма (A + B) + C:\n",
      " [[-10 -14  -3]\n",
      " [ 13   5  14]\n",
      " [-13   5  -1]]\n"
     ]
    }
   ],
   "source": [
    "A = np.matrix('-2 -3  6; -12 -11   2 ;1 2 1')\n",
    "B = np.matrix('-1  -7  -4; 10 7 9; -3   1 -10')\n",
    "C = np.matrix('-7  -4  -5; 15 9 3; -11   2   8')\n",
    "L = A + (B + C)\n",
    "R = (A + B) + C\n",
    "print(\"Сумма A + (B + C):\\n\", L)\n",
    "print(\"Сумма (A + B) + C:\\n\", R)"
   ]
  },
  {
   "cell_type": "markdown",
   "metadata": {},
   "source": [
    "#### Свойство 3. Для любой матрицы существует противоположная ей, такая, что их сумма является нулевой матрицей :"
   ]
  },
  {
   "cell_type": "code",
   "execution_count": 65,
   "metadata": {},
   "outputs": [
    {
     "name": "stdout",
     "output_type": "stream",
     "text": [
      "Сумма исходной и противоположной ей матриц:\n",
      " [[0 0 0]\n",
      " [0 0 0]\n",
      " [0 0 0]]\n",
      "Нулевая матрица:\n",
      " [[0 0]\n",
      " [0 0]]\n"
     ]
    }
   ],
   "source": [
    "A = np.matrix('-2 -3  6; 0 -11   2 ;1 2 1')\n",
    "Z = np.matrix('0 0; 0 0')\n",
    "L = A + (-1)*A\n",
    "print(\"Сумма исходной и противоположной ей матриц:\\n\", L)\n",
    "print(\"Нулевая матрица:\\n\",Z)"
   ]
  },
  {
   "cell_type": "markdown",
   "metadata": {},
   "source": [
    "#### Умножение матриц"
   ]
  },
  {
   "cell_type": "code",
   "execution_count": 38,
   "metadata": {},
   "outputs": [
    {
     "name": "stdout",
     "output_type": "stream",
     "text": [
      "[[ 39 -33   4]\n",
      " [ -8  -6  22]\n",
      " [ 18 -43 -26]]\n"
     ]
    }
   ],
   "source": [
    "A = np.random.randint(-5,5,(3,3))\n",
    "B = np.random.randint(-10,5,(3,3))\n",
    "C = A.dot(B)\n",
    "print(C)"
   ]
  },
  {
   "cell_type": "markdown",
   "metadata": {},
   "source": [
    "#### Свойство 1. Ассоциативность умножения. Результат умножения матриц не зависит от порядка, в котором будет выполняться эта операция"
   ]
  },
  {
   "cell_type": "code",
   "execution_count": 39,
   "metadata": {
    "scrolled": false
   },
   "outputs": [
    {
     "name": "stdout",
     "output_type": "stream",
     "text": [
      "Произведение A * (B * C):\n",
      " [[ 480  -94  576]\n",
      " [1435 -822 1538]\n",
      " [1514 -554 1490]]\n",
      "Произведение (A * B) * C:\n",
      " [[ 480  -94  576]\n",
      " [1435 -822 1538]\n",
      " [1514 -554 1490]]\n"
     ]
    }
   ],
   "source": [
    "A = np.random.randint(-5,5,(3,3))\n",
    "B = np.random.randint(-10,5,(3,3))\n",
    "С = np.random.randint(-10,10,(3,3))\n",
    "L = A.dot(B.dot(C))\n",
    "R = (A.dot(B)).dot(C)\n",
    "print(\"Произведение A * (B * C):\\n\", L)\n",
    "print(\"Произведение (A * B) * C:\\n\", R)"
   ]
  },
  {
   "cell_type": "markdown",
   "metadata": {},
   "source": [
    "#### Свойство 2. Дистрибутивность умножения. Произведение матрицы на сумму матриц равно сумме произведений матриц"
   ]
  },
  {
   "cell_type": "code",
   "execution_count": 40,
   "metadata": {
    "scrolled": true
   },
   "outputs": [
    {
     "name": "stdout",
     "output_type": "stream",
     "text": [
      "Произведение A * (B + C):\n",
      " [[-112  176  -22]\n",
      " [ -16  119  -31]\n",
      " [-152   95  126]]\n",
      "Произведение A * B + A * C:\n",
      " [[-112  176  -22]\n",
      " [ -16  119  -31]\n",
      " [-152   95  126]]\n"
     ]
    }
   ],
   "source": [
    "A = np.random.randint(-5,5,(3,3))\n",
    "B = np.random.randint(-10,5,(3,3))\n",
    "С = np.random.randint(-10,10,(3,3))\n",
    "L = A.dot(B + C)\n",
    "R = A.dot(B) + A.dot(C)\n",
    "print(\"Произведение A * (B + C):\\n\", L)\n",
    "print(\"Произведение A * B + A * C:\\n\", R)"
   ]
  },
  {
   "cell_type": "markdown",
   "metadata": {},
   "source": [
    "#### Свойство 3. Умножение матриц в общем виде не коммутативно. Это означает, что для матриц не выполняется правило независимости произведения от перестановки множителей"
   ]
  },
  {
   "cell_type": "code",
   "execution_count": 41,
   "metadata": {
    "scrolled": true
   },
   "outputs": [
    {
     "name": "stdout",
     "output_type": "stream",
     "text": [
      "Произведение A * B:\n",
      " [[ 39 -36  30]\n",
      " [ 17  16  18]\n",
      " [ 14  22  24]]\n",
      "Произведение B * A:\n",
      " [[-16  32   8]\n",
      " [-32  50   6]\n",
      " [-11  17  45]]\n"
     ]
    }
   ],
   "source": [
    "A = np.random.randint(-5,5,(3,3))\n",
    "B = np.random.randint(-10,5,(3,3))\n",
    "L = A.dot(B)\n",
    "R = B.dot(A)\n",
    "print(\"Произведение A * B:\\n\", L)\n",
    "print(\"Произведение B * A:\\n\", R)"
   ]
  },
  {
   "cell_type": "markdown",
   "metadata": {},
   "source": [
    "#### Свойство 4. Произведение заданной матрицы на единичную равно исходной матрице"
   ]
  },
  {
   "cell_type": "code",
   "execution_count": 42,
   "metadata": {
    "scrolled": true
   },
   "outputs": [
    {
     "name": "stdout",
     "output_type": "stream",
     "text": [
      "Произведение заданной матрицы на единичную:\n",
      " [[5 4]\n",
      " [4 7]]\n",
      "Произведение единичной матрицы на заданную:\n",
      " [[5 4]\n",
      " [4 7]]\n",
      "Исходная матрица:\n",
      " [[5 4]\n",
      " [4 7]]\n"
     ]
    }
   ],
   "source": [
    "A = np.matrix('5 4; 4 7')\n",
    "E = np.matrix('1 0; 0 1')\n",
    "L = E.dot(A)\n",
    "R = A.dot(E)\n",
    "print(\"Произведение заданной матрицы на единичную:\\n\", L)\n",
    "print(\"Произведение единичной матрицы на заданную:\\n\", R)\n",
    "print(\"Исходная матрица:\\n\", A)"
   ]
  },
  {
   "cell_type": "markdown",
   "metadata": {},
   "source": [
    "#### Свойство 5. Произведение заданной матрицы на нулевую матрицу равно нулевой матрице"
   ]
  },
  {
   "cell_type": "code",
   "execution_count": 43,
   "metadata": {
    "scrolled": true
   },
   "outputs": [
    {
     "name": "stdout",
     "output_type": "stream",
     "text": [
      "Произведение заданной матрицы на нулевую:\n",
      " [[0 0]\n",
      " [0 0]]\n",
      "Произведение нулевой матрицы на заданную:\n",
      " [[0 0]\n",
      " [0 0]]\n",
      "Исходная матрица:\n",
      " [[0 0]\n",
      " [0 0]]\n"
     ]
    }
   ],
   "source": [
    "A = np.matrix('5 4; 4 7')\n",
    "Z = np.matrix('0 0; 0 0')\n",
    "L = Z.dot(A)\n",
    "R = A.dot(Z)\n",
    "print(\"Произведение заданной матрицы на нулевую:\\n\", L)\n",
    "print(\"Произведение нулевой матрицы на заданную:\\n\", R)\n",
    "print(\"Исходная матрица:\\n\", Z)"
   ]
  },
  {
   "cell_type": "markdown",
   "metadata": {},
   "source": [
    "### Определитель матрицы"
   ]
  },
  {
   "cell_type": "code",
   "execution_count": 44,
   "metadata": {},
   "outputs": [
    {
     "name": "stdout",
     "output_type": "stream",
     "text": [
      "[[3 3 3]\n",
      " [4 1 1]\n",
      " [2 2 4]]\n"
     ]
    }
   ],
   "source": [
    "A = np.random.randint(1,5,(3,3))\n",
    "print(A)"
   ]
  },
  {
   "cell_type": "code",
   "execution_count": 45,
   "metadata": {},
   "outputs": [
    {
     "data": {
      "text/plain": [
       "-17.999999999999996"
      ]
     },
     "execution_count": 45,
     "metadata": {},
     "output_type": "execute_result"
    }
   ],
   "source": [
    "np.linalg.det(A)"
   ]
  },
  {
   "cell_type": "markdown",
   "metadata": {},
   "source": [
    "#### Свойства определителя матрицы.\n"
   ]
  },
  {
   "cell_type": "markdown",
   "metadata": {},
   "source": [
    "#### Свойство 1. Определитель матрицы остается неизменным при ее транспонировании"
   ]
  },
  {
   "cell_type": "code",
   "execution_count": 46,
   "metadata": {
    "scrolled": false
   },
   "outputs": [
    {
     "name": "stdout",
     "output_type": "stream",
     "text": [
      "[[1 4 4]\n",
      " [2 3 4]\n",
      " [3 3 1]]\n",
      "[[1 2 3]\n",
      " [4 3 3]\n",
      " [4 4 1]]\n",
      "Опеределитель матрицы: 19.0\n",
      "Определитель транспонированной матрицы: 19.0\n"
     ]
    }
   ],
   "source": [
    "A = np.random.randint(1,5,(3,3))\n",
    "print(A)\n",
    "print(A.T)\n",
    "det_A = round(np.linalg.det(A), 3)\n",
    "det_A_t = round(np.linalg.det(A.T), 3)\n",
    "print(\"Опеределитель матрицы:\",det_A)\n",
    "print(\"Определитель транспонированной матрицы:\",det_A_t)"
   ]
  },
  {
   "cell_type": "markdown",
   "metadata": {},
   "source": [
    "#### Свойство 2. Если у матрицы есть строка или столбец, состоящие из нулей, то определитель такой матрицы равен нулю"
   ]
  },
  {
   "cell_type": "code",
   "execution_count": 47,
   "metadata": {
    "scrolled": true
   },
   "outputs": [
    {
     "name": "stdout",
     "output_type": "stream",
     "text": [
      "[[ 0 41  2]\n",
      " [ 0  5  9]\n",
      " [ 0 88 21]]\n",
      "Опеределитель матрицы: 0.0\n"
     ]
    }
   ],
   "source": [
    "A = np.matrix('0 41 2; 0 5 9; 0 88 21')\n",
    "print(A)\n",
    "print(\"Опеределитель матрицы:\", np.linalg.det(A))"
   ]
  },
  {
   "cell_type": "markdown",
   "metadata": {},
   "source": [
    "#### Свойство 3. При перестановке строк матрицы знак ее определителя меняется на противоположный"
   ]
  },
  {
   "cell_type": "code",
   "execution_count": 48,
   "metadata": {
    "scrolled": false
   },
   "outputs": [
    {
     "name": "stdout",
     "output_type": "stream",
     "text": [
      "[[ 0 41  2]\n",
      " [10  5  9]\n",
      " [ 0 88 21]]\n",
      "Определитель матрицы А: -6850.0\n",
      "[[10  5  9]\n",
      " [ 0 41  2]\n",
      " [ 0 88 21]]\n",
      "Определитель матрицы В: 6850.0\n"
     ]
    }
   ],
   "source": [
    "A = np.matrix('0 41 2; 10 5 9; 0 88 21')\n",
    "print(A)\n",
    "print(\"Определитель матрицы А:\",round(np.linalg.det(A), 3))\n",
    "B = np.matrix('10 5 9; 0 41 2; 0 88 21')\n",
    "print(B)\n",
    "print(\"Определитель матрицы В:\",round(np.linalg.det(B), 3))"
   ]
  },
  {
   "cell_type": "markdown",
   "metadata": {},
   "source": [
    "#### Свойство 4. Если у матрицы есть две одинаковые строки, то ее определитель равен нулю"
   ]
  },
  {
   "cell_type": "code",
   "execution_count": 49,
   "metadata": {
    "scrolled": true
   },
   "outputs": [
    {
     "name": "stdout",
     "output_type": "stream",
     "text": [
      "[[ 0 41  2]\n",
      " [ 0 41  2]\n",
      " [16 88 21]]\n",
      "Определитель матрицы А: 0.0\n"
     ]
    }
   ],
   "source": [
    "A = np.matrix('0 41 2; 0 41 2; 16 88 21')\n",
    "print(A)\n",
    "print(\"Определитель матрицы А:\",np.linalg.det(A))"
   ]
  },
  {
   "cell_type": "markdown",
   "metadata": {},
   "source": [
    "#### Свойство 5. Если все элементы строки или столбца матрицы умножить на какое-то число, то и определитель будет умножен на это число"
   ]
  },
  {
   "cell_type": "code",
   "execution_count": 50,
   "metadata": {
    "scrolled": true
   },
   "outputs": [
    {
     "name": "stdout",
     "output_type": "stream",
     "text": [
      "[[1 3 2]\n",
      " [4 4 1]\n",
      " [2 2 3]]\n",
      "[[ 1  3  2]\n",
      " [ 4  4  1]\n",
      " [20 20 30]]\n",
      "Опеределитель матрицы: -200.0\n",
      "Определитель матрицы умноженной на число: -200.0\n"
     ]
    }
   ],
   "source": [
    "A = np.random.randint(1,5,(3,3))\n",
    "print(A)\n",
    "k = 10\n",
    "B = A.copy()\n",
    "B[2, :] = k * B[2, :]\n",
    "print(B)\n",
    "det_A = round(np.linalg.det(A), 3)\n",
    "det_B = round(np.linalg.det(B), 3)\n",
    "print(\"Опеределитель матрицы:\",det_A * k)\n",
    "print(\"Определитель матрицы умноженной на число:\",det_B)"
   ]
  },
  {
   "cell_type": "markdown",
   "metadata": {},
   "source": [
    "#### Свойство 6. Если все элементы строки или столбца можно представить как сумму двух слагаемых, то определитель такой матрицы равен сумме определителей двух соответствующих матриц"
   ]
  },
  {
   "cell_type": "code",
   "execution_count": 51,
   "metadata": {
    "scrolled": true
   },
   "outputs": [
    {
     "name": "stdout",
     "output_type": "stream",
     "text": [
      "[[ 1  2  3]\n",
      " [ 8 39 11]\n",
      " [ 4  5  6]]\n",
      "[[ 1  2  3]\n",
      " [-1 31  4]\n",
      " [ 4  5  6]]\n",
      "[[1 2 3]\n",
      " [9 8 7]\n",
      " [4 5 6]]\n",
      "Определитель матрицы C: -177.0\n",
      "Определитель суммы двух матриц: -177.0\n"
     ]
    }
   ],
   "source": [
    "A = np.matrix('1 2 3; -1 31 4; 4 5 6')\n",
    "B = np.matrix('1 2 3; 9 8 7; 4 5 6')\n",
    "C = A.copy()\n",
    "C[1, :] += B[1, :]\n",
    "print(C)\n",
    "print(A)\n",
    "print(B)\n",
    "R = round(np.linalg.det(C), 3)\n",
    "L = round(np.linalg.det(A), 3) + round(np.linalg.det(B), 3)\n",
    "print(\"Определитель матрицы C:\", R)\n",
    "print(\"Определитель суммы двух матриц:\", L)"
   ]
  },
  {
   "cell_type": "markdown",
   "metadata": {},
   "source": [
    "#### Свойство 7. Если к элементам одной строки прибавить элементы другой строки, умноженные на одно и тоже число, то определитель матрицы не изменится"
   ]
  },
  {
   "cell_type": "code",
   "execution_count": 52,
   "metadata": {
    "scrolled": true
   },
   "outputs": [
    {
     "name": "stdout",
     "output_type": "stream",
     "text": [
      "[[4 1 3]\n",
      " [1 3 4]\n",
      " [3 2 3]]\n",
      "[[ 4  1  3]\n",
      " [ 9  5 10]\n",
      " [ 3  2  3]]\n",
      "Определитель матрицы A: -8.0\n",
      "Определитель матрицы B: -8.0\n"
     ]
    }
   ],
   "source": [
    "A = np.random.randint(1,5,(3,3))\n",
    "k = 2\n",
    "B = A.copy()\n",
    "B[1, :] = B[1, :] + k * B[0, :]\n",
    "print(A)\n",
    "print(B)\n",
    "R = round(np.linalg.det(A), 3)\n",
    "L = round(np.linalg.det(B), 3)\n",
    "print(\"Определитель матрицы A:\", R)\n",
    "print(\"Определитель матрицы B:\", L)"
   ]
  },
  {
   "cell_type": "markdown",
   "metadata": {},
   "source": [
    "#### Свойство 8. Если строка или столбец матрицы является линейной комбинацией других строк (столбцов), то определитель такой матрицы равен нулю"
   ]
  },
  {
   "cell_type": "code",
   "execution_count": 53,
   "metadata": {
    "scrolled": true
   },
   "outputs": [
    {
     "name": "stdout",
     "output_type": "stream",
     "text": [
      "[[4 2 3]\n",
      " [1 4 1]\n",
      " [3 1 2]]\n",
      "[[ 4  2  3]\n",
      " [10  4  7]\n",
      " [ 3  1  2]]\n",
      "Определитель матрицы A: 0.0\n"
     ]
    }
   ],
   "source": [
    "A = np.random.randint(1,5,(3,3))\n",
    "print(A)\n",
    "k = 2\n",
    "A[1, :] = A[0, :] + k * A[2, :]\n",
    "print(A)\n",
    "K = round(np.linalg.det(A), 3)\n",
    "print(\"Определитель матрицы A:\", K)"
   ]
  },
  {
   "cell_type": "markdown",
   "metadata": {},
   "source": [
    "#### Свойство 9. Если матрица содержит пропорциональные строки, то ее определитель равен нулю"
   ]
  },
  {
   "cell_type": "code",
   "execution_count": 54,
   "metadata": {
    "scrolled": true
   },
   "outputs": [
    {
     "name": "stdout",
     "output_type": "stream",
     "text": [
      "[[2 3 3]\n",
      " [4 3 4]\n",
      " [2 1 3]]\n",
      "[[2 3 3]\n",
      " [4 6 6]\n",
      " [2 1 3]]\n",
      "Определитель матрицы A: 0.0\n"
     ]
    }
   ],
   "source": [
    "A = np.random.randint(1,5,(3,3))\n",
    "print(A)\n",
    "k = 2\n",
    "A[1, :] = k * A[0, :]\n",
    "print(A)\n",
    "K = round(np.linalg.det(A), 3)\n",
    "print(\"Определитель матрицы A:\", K)"
   ]
  },
  {
   "cell_type": "markdown",
   "metadata": {},
   "source": [
    "### Обратная матрица"
   ]
  },
  {
   "cell_type": "code",
   "execution_count": 59,
   "metadata": {},
   "outputs": [
    {
     "name": "stdout",
     "output_type": "stream",
     "text": [
      "[[-0.16666667  0.33333333]\n",
      " [ 0.33333333 -0.16666667]]\n"
     ]
    }
   ],
   "source": [
    "A = np.random.randint(1,5,(2,2))\n",
    "A_inv = np.linalg.inv(A)\n",
    "print(A_inv)"
   ]
  },
  {
   "cell_type": "markdown",
   "metadata": {},
   "source": [
    "#### Свойство 1. Обратная матрица обратной матрицы есть исходная матрица:"
   ]
  },
  {
   "cell_type": "code",
   "execution_count": 60,
   "metadata": {
    "scrolled": true
   },
   "outputs": [
    {
     "name": "stdout",
     "output_type": "stream",
     "text": [
      "Определитель исходной матрицы:\n",
      " [[3 1]\n",
      " [4 3]]\n",
      "Определитель обратной обратной матрицы A:\n",
      " [[3. 1.]\n",
      " [4. 3.]]\n"
     ]
    }
   ],
   "source": [
    "A = np.random.randint(1,5,(2,2))\n",
    "A_inv = np.linalg.inv(A)\n",
    "A_inv_inv = np.linalg.inv(A_inv)\n",
    "print(\"Определитель исходной матрицы:\\n\",A)\n",
    "print(\"Определитель обратной обратной матрицы A:\\n\",A_inv_inv)"
   ]
  },
  {
   "cell_type": "markdown",
   "metadata": {},
   "source": [
    "#### Свойство 2. Обратная матрица транспонированной матрицы равна транспонированной матрице от обратной матрицы:"
   ]
  },
  {
   "cell_type": "code",
   "execution_count": 61,
   "metadata": {
    "scrolled": true
   },
   "outputs": [
    {
     "name": "stdout",
     "output_type": "stream",
     "text": [
      "Обратная матрица транспонированной матрицы:\n",
      " [[ 0.5  -0.25]\n",
      " [-0.5   0.5 ]]\n",
      "Транспонированная матрица от обратной матрицы:\n",
      " [[ 0.5  -0.25]\n",
      " [-0.5   0.5 ]]\n"
     ]
    }
   ],
   "source": [
    "A = np.random.randint(1,5,(2,2))\n",
    "L = np.linalg.inv(A.T)\n",
    "R = (np.linalg.inv(A)).T\n",
    "print(\"Обратная матрица транспонированной матрицы:\\n\",L)\n",
    "print(\"Транспонированная матрица от обратной матрицы:\\n\", R)"
   ]
  },
  {
   "cell_type": "markdown",
   "metadata": {},
   "source": [
    "#### Свойство 3. Обратная матрица произведения матриц равна произведению обратных матриц:"
   ]
  },
  {
   "cell_type": "code",
   "execution_count": 63,
   "metadata": {
    "scrolled": true
   },
   "outputs": [
    {
     "name": "stdout",
     "output_type": "stream",
     "text": [
      "Обратная матрица произведения матриц:\n",
      " [[-0.42307692  0.36538462]\n",
      " [ 0.23076923 -0.15384615]]\n",
      "Произведение обратных матриц:\n",
      " [[-0.42307692  0.36538462]\n",
      " [ 0.23076923 -0.15384615]]\n"
     ]
    }
   ],
   "source": [
    "A = np.random.randint(1,5,(2,2))\n",
    "B = np.random.randint(1,5,(2,2))\n",
    "L = np.linalg.inv(A.dot(B))\n",
    "R = np.linalg.inv(B).dot(np.linalg.inv(A))\n",
    "print(\"Обратная матрица произведения матриц:\\n\",L)\n",
    "print(\"Произведение обратных матриц:\\n\", R)"
   ]
  }
 ],
 "metadata": {
  "kernelspec": {
   "display_name": "Python 3 (ipykernel)",
   "language": "python",
   "name": "python3"
  },
  "language_info": {
   "codemirror_mode": {
    "name": "ipython",
    "version": 3
   },
   "file_extension": ".py",
   "mimetype": "text/x-python",
   "name": "python",
   "nbconvert_exporter": "python",
   "pygments_lexer": "ipython3",
   "version": "3.9.13"
  }
 },
 "nbformat": 4,
 "nbformat_minor": 4
}
